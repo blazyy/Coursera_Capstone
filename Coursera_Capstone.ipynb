{
  "nbformat": 4,
  "nbformat_minor": 0,
  "metadata": {
    "colab": {
      "name": "Coursera_Capstone",
      "provenance": [],
      "authorship_tag": "ABX9TyPGQaDqeDQJtJ+a3wNKWi76",
      "include_colab_link": true
    },
    "kernelspec": {
      "name": "python3",
      "display_name": "Python 3"
    }
  },
  "cells": [
    {
      "cell_type": "markdown",
      "metadata": {
        "id": "view-in-github",
        "colab_type": "text"
      },
      "source": [
        "<a href=\"https://colab.research.google.com/github/blazyy/Coursera_Capstone/blob/master/Coursera_Capstone.ipynb\" target=\"_parent\"><img src=\"https://colab.research.google.com/assets/colab-badge.svg\" alt=\"Open In Colab\"/></a>"
      ]
    },
    {
      "cell_type": "markdown",
      "metadata": {
        "id": "nS1oEvbUM-tW",
        "colab_type": "text"
      },
      "source": [
        "# Coursera Capstone\n",
        "\n",
        "##### This notebook will contain my submission for the final capstone project for the IBM Data Science Professional Certification Course on Coursera.\n"
      ]
    },
    {
      "cell_type": "code",
      "metadata": {
        "id": "PE3eq0r4M7Pu",
        "colab_type": "code",
        "colab": {}
      },
      "source": [
        "import pandas as pd\n",
        "import numpy as np"
      ],
      "execution_count": 0,
      "outputs": []
    },
    {
      "cell_type": "code",
      "metadata": {
        "id": "zcpwBknaNMtO",
        "colab_type": "code",
        "outputId": "ab892a52-560a-44b7-cfd0-acf8d74a577f",
        "colab": {
          "base_uri": "https://localhost:8080/",
          "height": 34
        }
      },
      "source": [
        "print('Hello Capstone Project Course!')"
      ],
      "execution_count": 0,
      "outputs": [
        {
          "output_type": "stream",
          "text": [
            "Hello Capstone Project Course!\n"
          ],
          "name": "stdout"
        }
      ]
    }
  ]
}